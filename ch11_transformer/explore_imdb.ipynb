{
 "cells": [
  {
   "cell_type": "markdown",
   "metadata": {},
   "source": [
    "# Notes\n",
    "\n",
    "The data is a ragger tensor where each sample is a sequence of integers of variable length (i.e., padding may be needed). Therefore, the data is integer encoded (i.e., word-level tokenization). Encoding is based on\n",
    "frequency such taht the integer 3 encodes the third most frequent word\n",
    "in the dataset. Every sequence begins with a '1' indicating the start\n",
    "of a sentence. Might remove this? Is EOS of BOS needed for this task?\n",
    "\n",
    "The dataset consists of 25,000 sentences with an associated label for sentiment.\n",
    "\n",
    "Since approximately 95% of the input data can be covered by using sentences with length 0 to 600, then the remaining sentences will be discarded. The min sentence length is 11 while the max sentence length is 2,494.\n",
    "\n",
    "Consider how \"Term Frequency, Inverse Document Frequency (TF-IDF)\" should be used? This appears to be more common for N-gram models (bag-of-words).\n",
    "\n",
    "Kinds of NLP tasks (Deep Learning with Python 2ed, p. 310):\n",
    "* Sequence modeling (word order matters, therefore word level)\n",
    "* Bag-of-words (word order doesn't matter, N-grams)\n",
    "* Text generation\n",
    "* Text classification (what's the topic)\n",
    "* Content filtering \n",
    "* Sentiment Analysis (positive or negative sounding?)\n",
    "* Language modeling (next word in sentence)\n",
    "* Translation\n",
    "* Summarization"
   ]
  },
  {
   "cell_type": "code",
   "execution_count": 77,
   "metadata": {},
   "outputs": [],
   "source": [
    "import tensorflow as tf\n",
    "from tensorflow.keras import datasets\n",
    "from tensorflow.keras.preprocessing.sequence import pad_sequences\n",
    "\n",
    "import matplotlib.pyplot as plt\n",
    "import seaborn as sns\n",
    "import numpy as np"
   ]
  },
  {
   "cell_type": "markdown",
   "metadata": {},
   "source": [
    "# Explore Data"
   ]
  },
  {
   "cell_type": "code",
   "execution_count": 2,
   "metadata": {},
   "outputs": [
    {
     "name": "stdout",
     "output_type": "stream",
     "text": [
      "2.6.0\n"
     ]
    }
   ],
   "source": [
    "print(tf.__version__)"
   ]
  },
  {
   "cell_type": "code",
   "execution_count": 3,
   "metadata": {},
   "outputs": [],
   "source": [
    "(x_train, y_train), (x_test, y_test) = datasets.imdb.load_data()"
   ]
  },
  {
   "cell_type": "code",
   "execution_count": 4,
   "metadata": {},
   "outputs": [
    {
     "name": "stdout",
     "output_type": "stream",
     "text": [
      "<class 'numpy.ndarray'> (25000,) (25000,)\n",
      "<class 'numpy.ndarray'> (25000,) (25000,)\n"
     ]
    }
   ],
   "source": [
    "# Dataset shapes and types\n",
    "print(type(x_train), x_train.shape, y_train.shape)\n",
    "print(type(x_test), x_test.shape, y_test.shape)"
   ]
  },
  {
   "cell_type": "code",
   "execution_count": 5,
   "metadata": {},
   "outputs": [],
   "source": [
    "# Dictionaries\n",
    "stoi = datasets.imdb.get_word_index()\n",
    "itos = {int_: str_ for str_, int_ in stoi.items()}"
   ]
  },
  {
   "cell_type": "code",
   "execution_count": 6,
   "metadata": {},
   "outputs": [
    {
     "name": "stdout",
     "output_type": "stream",
     "text": [
      "[1, 14, 22, 16, 43, 530, 973, 1622, 1385, 65]\n",
      "[1, 194, 1153, 194, 8255, 78, 228, 5, 6, 1463]\n"
     ]
    }
   ],
   "source": [
    "print(x_train[0][:10])\n",
    "print(x_train[1][:10])"
   ]
  },
  {
   "cell_type": "code",
   "execution_count": 73,
   "metadata": {},
   "outputs": [
    {
     "name": "stdout",
     "output_type": "stream",
     "text": [
      "11\n",
      "2494\n"
     ]
    }
   ],
   "source": [
    "subsequence_lengths = [len(subsequence) for subsequence in x_train]\n",
    "print(min(subsequence_lengths))\n",
    "print(max(subsequence_lengths))"
   ]
  },
  {
   "cell_type": "code",
   "execution_count": 59,
   "metadata": {},
   "outputs": [],
   "source": [
    "def bin_ixs_in_threshold(normed_hist, threshold):\n",
    "    sum_ = 0\n",
    "    for ix, prop in enumerate(normed_hist):\n",
    "        sum_ += prop\n",
    "        if sum_ >= threshold:\n",
    "            return slice(0, ix+1)"
   ]
  },
  {
   "cell_type": "code",
   "execution_count": 71,
   "metadata": {},
   "outputs": [
    {
     "name": "stdout",
     "output_type": "stream",
     "text": [
      "[ 11.    35.83  60.66  85.49 110.32 135.15 159.98 184.81 209.64 234.47\n",
      " 259.3  284.13 308.96 333.79 358.62 383.45 408.28 433.11 457.94 482.77\n",
      " 507.6  532.43 557.26 582.09 606.92]\n"
     ]
    }
   ],
   "source": [
    "subsequence_np_hist, subsequence_np_bins = np.histogram(\n",
    "    subsequence_lengths, bins=100, density=False)\n",
    "\n",
    "# Each element tells the proportion of sentences (i.e., samples)\n",
    "# that correlate with a given sentence length\n",
    "subseqence_hist_sum_normed = subsequence_np_hist/sum(subsequence_np_hist)\n",
    "\n",
    "print(subsequence_np_bins[bin_ixs_in_threshold(\n",
    "    normed_hist=subseqence_hist_sum_normed, \n",
    "    threshold=0.95)])"
   ]
  },
  {
   "cell_type": "code",
   "execution_count": 72,
   "metadata": {},
   "outputs": [
    {
     "data": {
      "image/png": "[encoded data removed]",
      "text/plain": [
       "<Figure size 1080x576 with 1 Axes>"
      ]
     },
     "metadata": {
      "needs_background": "light"
     },
     "output_type": "display_data"
    }
   ],
   "source": [
    "fig, ax = plt.subplots(figsize=(15, 8))\n",
    "sns.histplot(subsequence_lengths, bins=100, stat='percent', ax=ax)\n",
    "ax.set_title('Histogram for Sentence Lengths')\n",
    "fig.savefig('sentence_length_hist.svg', bbox_inches='tight')"
   ]
  },
  {
   "cell_type": "markdown",
   "metadata": {},
   "source": [
    "# Load Appropriate Data"
   ]
  },
  {
   "cell_type": "code",
   "execution_count": 78,
   "metadata": {},
   "outputs": [],
   "source": [
    "# Max length is based on the subsequence length that will capture\n",
    "# roughly 95% of the total data\n",
    "maxlen = int(\n",
    "        subsequence_np_bins[bin_ixs_in_threshold(\n",
    "            normed_hist=subseqence_hist_sum_normed,\n",
    "            threshold=0.95)][-1])\n",
    "            \n",
    "(x_train, y_train), (x_test, y_test) = datasets.imdb.load_data(\n",
    "    maxlen=maxlen)"
   ]
  },
  {
   "cell_type": "code",
   "execution_count": 79,
   "metadata": {},
   "outputs": [
    {
     "name": "stdout",
     "output_type": "stream",
     "text": [
      "606\n"
     ]
    }
   ],
   "source": [
    "print(maxlen)"
   ]
  },
  {
   "cell_type": "code",
   "execution_count": 80,
   "metadata": {},
   "outputs": [],
   "source": [
    "x_pad_train, x_pad_test = \\\n",
    "    pad_sequences(x_train, maxlen=maxlen, padding='post'), \\\n",
    "    pad_sequences(x_test, maxlen=maxlen, padding='post'),"
   ]
  },
  {
   "cell_type": "code",
   "execution_count": 82,
   "metadata": {},
   "outputs": [
    {
     "name": "stdout",
     "output_type": "stream",
     "text": [
      "218 606\n"
     ]
    }
   ],
   "source": [
    "print(np.count_nonzero(x_pad_train[0]), len(x_pad_train[0]))"
   ]
  },
  {
   "cell_type": "code",
   "execution_count": null,
   "metadata": {},
   "outputs": [],
   "source": []
  }
 ],
 "metadata": {
  "interpreter": {
   "hash": "07f0aceed467d0cbae7569fecdfaec78063cba8e23481668ef588a8de6eba6e0"
  },
  "kernelspec": {
   "display_name": "Python 3.9.6 64-bit ('blue-mars': conda)",
   "language": "python",
   "name": "python3"
  },
  "language_info": {
   "codemirror_mode": {
    "name": "ipython",
    "version": 3
   },
   "file_extension": ".py",
   "mimetype": "text/x-python",
   "name": "python",
   "nbconvert_exporter": "python",
   "pygments_lexer": "ipython3",
   "version": "3.9.7"
  },
  "orig_nbformat": 4
 },
 "nbformat": 4,
 "nbformat_minor": 2
}
