{
 "cells": [
  {
   "cell_type": "markdown",
   "metadata": {},
   "source": [
    "BCE seems to have some sort of smoothing.\n",
    "https://github.com/keras-team/keras/blob/2c48a3b38b6b6139be2da501982fd2f61d7d48fe/keras/losses.py#L1767\n",
    "\n",
    "\n",
    "TensorFlow implementation for reference...\n",
    "https://rafayak.medium.com/how-do-tensorflow-and-keras-implement-binary-classification-and-the-binary-cross-entropy-function-e9413826da7\n"
   ]
  },
  {
   "cell_type": "code",
   "execution_count": 1,
   "metadata": {},
   "outputs": [],
   "source": [
    "import numpy as np\n",
    "from typing import Tuple, Optional, Union\n",
    "\n",
    "from tensorflow.keras.losses import binary_crossentropy, mean_squared_error\n",
    "import tensorflow as tf\n",
    "\n",
    "from stats import plot_train_val_loss, MultiModelHistory, plot_bar_charts\n",
    "\n",
    "import matplotlib.pyplot as plt\n",
    "\n",
    "from mlp import DenseLayer, MLP\n",
    "from ops import ReLU, MeanSquaredError, BinaryCrossEntropy, Sigmoid, SigmoidCrossEntropyWithLogits\n",
    "\n",
    "np.random.seed(0)\n",
    "tf.random.set_seed(0)"
   ]
  },
  {
   "cell_type": "code",
   "execution_count": 2,
   "metadata": {},
   "outputs": [
    {
     "name": "stdout",
     "output_type": "stream",
     "text": [
      "['my_model', 'ref_model']\n",
      "['loss', 'val_loss']\n",
      "[defaultdict(<class 'list'>, {'loss': [0.910053327157888, 0.8711946359158919, 0.8431318467157493, 0.822631016641001, 0.8075443417596557], 'val_loss': [1.5606431968595884, 1.5527274719754993, 1.5510327354736015, 1.5963520818843078, 1.616502831991005]}), {'loss': [0.8827767372131348, 0.8751176595687866, 0.8704826235771179, 0.867555558681488, 0.863520622253418], 'val_loss': [1.3771300315856934, 1.3654534816741943, 1.365041971206665, 1.3555736541748047, 1.3463513851165771]}]\n",
      "[0.910053327157888, 0.8711946359158919, 0.8431318467157493, 0.822631016641001, 0.8075443417596557]\n",
      "\n",
      "{'loss': [0.8827767372131348, 0.8751176595687866, 0.8704826235771179, 0.867555558681488, 0.863520622253418], 'val_loss': [1.3771300315856934, 1.3654534816741943, 1.365041971206665, 1.3555736541748047, 1.3463513851165771]}\n",
      "{'loss': [0.8827767372131348, 0.8751176595687866, 0.8704826235771179, 0.867555558681488, 0.863520622253418], 'val_loss': [1.3771300315856934, 1.3654534816741943, 1.365041971206665, 1.3555736541748047, 1.3463513851165771]}\n",
      "\n",
      "Building confidence interval dictionary...\n"
     ]
    }
   ],
   "source": [
    "# Multi model dict building\n",
    "\n",
    "# Example tensorflow model\n",
    "samples = 64\n",
    "batch_size = 8\n",
    "epochs = 5\n",
    "hidden = 2\n",
    "targets = 3\n",
    "num_layers = 1\n",
    "x = np.random.normal(size=(samples, hidden))\n",
    "y = np.random.normal(size=(samples, 1))\n",
    "\n",
    "model = tf.keras.Sequential()\n",
    "for lyr in range(num_layers):\n",
    "    model.add(tf.keras.layers.Dense(units=hidden, activation='relu'))\n",
    "model.add(tf.keras.layers.Dense(units=targets, name='predictions'))\n",
    "\n",
    "model.compile(loss='mse', optimizer='sgd')\n",
    "\n",
    "history = model.fit(x, y, epochs=epochs, batch_size=batch_size, validation_split=0.2, verbose=0)\n",
    "\n",
    "# Build my model\n",
    "my_model = MLP(\n",
    "    input_dims=x.shape[-1],\n",
    "    hidden_units=hidden,\n",
    "    targets=y.shape[-1],\n",
    "    learning_rate=0.01,\n",
    "    loss_function=MeanSquaredError(),\n",
    "    l_layers=num_layers)\n",
    "\n",
    "# Train my model\n",
    "my_history = my_model.fit(x=x, y=y, batch_size=batch_size, epochs=epochs, verbose=0)\n",
    "\n",
    "# My multimodel history dictionary\n",
    "mmh_dict = MultiModelHistory()\n",
    "\n",
    "mmh_dict.append_model_history(\n",
    "    model_history=my_history,\n",
    "    model_key='my_model')\n",
    "\n",
    "mmh_dict.append_model_history(\n",
    "    model_history=history.history,\n",
    "    model_key='ref_model')\n",
    "\n",
    "\n",
    "print(mmh_dict.model_keys)\n",
    "print(mmh_dict.metric_keys)\n",
    "print(mmh_dict.model_histories)\n",
    "print(mmh_dict.model_histories[0]['loss'])\n",
    "\n",
    "print()\n",
    "print(mmh_dict.model_histories[1])\n",
    "print(mmh_dict.model_histories[1])\n",
    "\n",
    "# Build confidence interval dict\n",
    "print()\n",
    "print('Building confidence interval dictionary...')\n",
    "mmh_dict.build_conf_interval_dict()"
   ]
  },
  {
   "cell_type": "code",
   "execution_count": null,
   "metadata": {},
   "outputs": [],
   "source": [
    "# Try reshaping the metric list to "
   ]
  },
  {
   "cell_type": "code",
   "execution_count": 3,
   "metadata": {},
   "outputs": [
    {
     "name": "stdout",
     "output_type": "stream",
     "text": [
      "defaultdict(<class 'dict'>, {'my_model': {'loss': Stats(mean=0.850911033638037, error=0.050628004408447946), 'val_loss': Stats(mean=1.5754516636368003, error=0.036486701355165074)}, 'ref_model': {'loss': Stats(mean=0.871890640258789, error=0.009203264422113833), 'val_loss': Stats(mean=1.361910104751587, error=0.014376445662879211)}})\n",
      "defaultdict(<class 'dict'>, {'my_model': {'loss': Stats(mean=0.850911033638037, error=0.050628004408447946), 'val_loss': Stats(mean=1.5754516636368003, error=0.036486701355165074)}, 'ref_model': {'loss': Stats(mean=0.871890640258789, error=0.009203264422113833), 'val_loss': Stats(mean=1.361910104751587, error=0.014376445662879211)}})\n",
      "False\n",
      "\n",
      "[{'loss': Stats(mean=0.850911033638037, error=0.050628004408447946), 'val_loss': Stats(mean=1.5754516636368003, error=0.036486701355165074)}, {'loss': Stats(mean=0.871890640258789, error=0.009203264422113833), 'val_loss': Stats(mean=1.361910104751587, error=0.014376445662879211)}]\n"
     ]
    }
   ],
   "source": [
    "# Inspect model major confidence interval dict\n",
    "print(mmh_dict.conf_interval_dict)\n",
    "print(mmh_dict._conf_interval_dict_model_major)\n",
    "print(mmh_dict.conf_interval_dict is mmh_dict._conf_interval_dict_model_major)\n",
    "print()\n",
    "print(mmh_dict.model_performance)"
   ]
  },
  {
   "cell_type": "code",
   "execution_count": 4,
   "metadata": {},
   "outputs": [
    {
     "name": "stdout",
     "output_type": "stream",
     "text": [
      "defaultdict(<class 'dict'>, {'loss': {'my_model': Stats(mean=0.850911033638037, error=0.050628004408447946), 'ref_model': Stats(mean=0.871890640258789, error=0.009203264422113833)}, 'val_loss': {'my_model': Stats(mean=1.5754516636368003, error=0.036486701355165074), 'ref_model': Stats(mean=1.361910104751587, error=0.014376445662879211)}})\n",
      "[{'my_model': Stats(mean=0.850911033638037, error=0.050628004408447946), 'ref_model': Stats(mean=0.871890640258789, error=0.009203264422113833)}, {'my_model': Stats(mean=1.5754516636368003, error=0.036486701355165074), 'ref_model': Stats(mean=1.361910104751587, error=0.014376445662879211)}]\n",
      "\n",
      "defaultdict(<class 'dict'>, {'my_model': {'loss': Stats(mean=0.850911033638037, error=0.050628004408447946), 'val_loss': Stats(mean=1.5754516636368003, error=0.036486701355165074)}, 'ref_model': {'loss': Stats(mean=0.871890640258789, error=0.009203264422113833), 'val_loss': Stats(mean=1.361910104751587, error=0.014376445662879211)}})\n",
      "[{'loss': Stats(mean=0.850911033638037, error=0.050628004408447946), 'val_loss': Stats(mean=1.5754516636368003, error=0.036486701355165074)}, {'loss': Stats(mean=0.871890640258789, error=0.009203264422113833), 'val_loss': Stats(mean=1.361910104751587, error=0.014376445662879211)}]\n"
     ]
    }
   ],
   "source": [
    "# Reformat to metric major\n",
    "mmh_dict.set_key_to_metric_major()\n",
    "print(mmh_dict.conf_interval_dict)\n",
    "print(mmh_dict.model_performance)\n",
    "\n",
    "mmh_dict.set_key_to_model_major()\n",
    "print()\n",
    "print(mmh_dict.conf_interval_dict)\n",
    "print(mmh_dict.model_performance)"
   ]
  },
  {
   "cell_type": "code",
   "execution_count": 5,
   "metadata": {},
   "outputs": [
    {
     "data": {
      "image/png": "[encoded data removed]",
      "text/plain": [
       "<Figure size 1080x576 with 1 Axes>"
      ]
     },
     "metadata": {
      "needs_background": "light"
     },
     "output_type": "display_data"
    }
   ],
   "source": [
    "# Testing multi bar char plot\n",
    "chart = plot_bar_charts(\n",
    "    multi_model_history=mmh_dict,\n",
    "    bar_width=0.25,\n",
    "    title='title',)\n",
    "\n",
    "chart.savefig('./chart.svg', bbox_inches='tight')"
   ]
  },
  {
   "cell_type": "code",
   "execution_count": 26,
   "metadata": {},
   "outputs": [
    {
     "name": "stdout",
     "output_type": "stream",
     "text": [
      "[{'train': [1, 2, 3], 'val': [1, 3, 4]}, {'train': [3, 4, 5]}]\n",
      "{'train': [1, 2, 3, 7, 3, 5], 'val': [1, 3, 4, 6, 3, 2]}\n"
     ]
    }
   ],
   "source": [
    "nested_dict = dict()\n",
    "nested_dict['model1'] = {'train': [1, 2, 3], 'val': [1, 3, 4, ]}\n",
    "nested_dict['model2'] = {'train': [3, 4, 5]}\n",
    "\n",
    "print(list(nested_dict.values()))\n",
    "\n",
    "kth_fold_model_history = {'train': [7, 3, 5], 'val': [6, 3, 2,]}\n",
    "for k, v in kth_fold_model_history.items():\n",
    "    nested_dict['model1'][k] += (v)\n",
    "\n",
    "print(nested_dict['model1'])"
   ]
  },
  {
   "cell_type": "code",
   "execution_count": 2,
   "metadata": {},
   "outputs": [
    {
     "name": "stdout",
     "output_type": "stream",
     "text": [
      "Epoch 1/32\n",
      "4/4 [==============================] - 1s 51ms/step - loss: 1.0680 - val_loss: 0.8693\n",
      "Epoch 2/32\n",
      "4/4 [==============================] - 0s 8ms/step - loss: 1.0649 - val_loss: 0.8666\n",
      "Epoch 3/32\n",
      "4/4 [==============================] - 0s 8ms/step - loss: 1.0603 - val_loss: 0.8668\n",
      "Epoch 4/32\n",
      "4/4 [==============================] - 0s 9ms/step - loss: 1.0576 - val_loss: 0.8659\n",
      "Epoch 5/32\n",
      "4/4 [==============================] - 0s 9ms/step - loss: 1.0536 - val_loss: 0.8629\n",
      "Epoch 6/32\n",
      "4/4 [==============================] - 0s 9ms/step - loss: 1.0505 - val_loss: 0.8625\n",
      "Epoch 7/32\n",
      "4/4 [==============================] - 0s 10ms/step - loss: 1.0470 - val_loss: 0.8594\n",
      "Epoch 8/32\n",
      "4/4 [==============================] - 0s 9ms/step - loss: 1.0422 - val_loss: 0.8583\n",
      "Epoch 9/32\n",
      "4/4 [==============================] - 0s 9ms/step - loss: 1.0390 - val_loss: 0.8589\n",
      "Epoch 10/32\n",
      "4/4 [==============================] - 0s 9ms/step - loss: 1.0346 - val_loss: 0.8575\n",
      "Epoch 11/32\n",
      "4/4 [==============================] - 0s 9ms/step - loss: 1.0319 - val_loss: 0.8568\n",
      "Epoch 12/32\n",
      "4/4 [==============================] - 0s 9ms/step - loss: 1.0294 - val_loss: 0.8563\n",
      "Epoch 13/32\n",
      "4/4 [==============================] - 0s 9ms/step - loss: 1.0264 - val_loss: 0.8547\n",
      "Epoch 14/32\n",
      "4/4 [==============================] - 0s 9ms/step - loss: 1.0235 - val_loss: 0.8530\n",
      "Epoch 15/32\n",
      "4/4 [==============================] - 0s 10ms/step - loss: 1.0213 - val_loss: 0.8526\n",
      "Epoch 16/32\n",
      "4/4 [==============================] - 0s 9ms/step - loss: 1.0191 - val_loss: 0.8550\n",
      "Epoch 17/32\n",
      "4/4 [==============================] - 0s 10ms/step - loss: 1.0154 - val_loss: 0.8529\n",
      "Epoch 18/32\n",
      "4/4 [==============================] - 0s 10ms/step - loss: 1.0117 - val_loss: 0.8551\n",
      "Epoch 19/32\n",
      "4/4 [==============================] - 0s 10ms/step - loss: 1.0091 - val_loss: 0.8548\n",
      "Epoch 20/32\n",
      "4/4 [==============================] - 0s 10ms/step - loss: 1.0066 - val_loss: 0.8543\n",
      "Epoch 21/32\n",
      "4/4 [==============================] - 0s 10ms/step - loss: 1.0043 - val_loss: 0.8519\n",
      "Epoch 22/32\n",
      "4/4 [==============================] - 0s 10ms/step - loss: 1.0027 - val_loss: 0.8497\n",
      "Epoch 23/32\n",
      "4/4 [==============================] - 0s 11ms/step - loss: 1.0003 - val_loss: 0.8491\n",
      "Epoch 24/32\n",
      "4/4 [==============================] - 0s 19ms/step - loss: 0.9962 - val_loss: 0.8495\n",
      "Epoch 25/32\n",
      "4/4 [==============================] - 0s 11ms/step - loss: 0.9935 - val_loss: 0.8476\n",
      "Epoch 26/32\n",
      "4/4 [==============================] - 0s 9ms/step - loss: 0.9916 - val_loss: 0.8471\n",
      "Epoch 27/32\n",
      "4/4 [==============================] - 0s 10ms/step - loss: 0.9887 - val_loss: 0.8436\n",
      "Epoch 28/32\n",
      "4/4 [==============================] - 0s 9ms/step - loss: 0.9857 - val_loss: 0.8431\n",
      "Epoch 29/32\n",
      "4/4 [==============================] - 0s 9ms/step - loss: 0.9828 - val_loss: 0.8413\n",
      "Epoch 30/32\n",
      "4/4 [==============================] - 0s 10ms/step - loss: 0.9816 - val_loss: 0.8426\n",
      "Epoch 31/32\n",
      "4/4 [==============================] - 0s 11ms/step - loss: 0.9765 - val_loss: 0.8401\n",
      "Epoch 32/32\n",
      "4/4 [==============================] - 0s 12ms/step - loss: 0.9733 - val_loss: 0.8410\n"
     ]
    },
    {
     "data": {
      "image/png": "[encoded data removed]",
      "text/plain": [
       "<Figure size 1080x576 with 1 Axes>"
      ]
     },
     "execution_count": 2,
     "metadata": {},
     "output_type": "execute_result"
    },
    {
     "data": {
      "image/png": "[encoded data removed]",
      "text/plain": [
       "<Figure size 1080x576 with 1 Axes>"
      ]
     },
     "metadata": {
      "needs_background": "light"
     },
     "output_type": "display_data"
    }
   ],
   "source": [
    "samples = 128\n",
    "batch_size = 32\n",
    "epochs = 32\n",
    "hidden = 32\n",
    "targets = 3\n",
    "x = np.random.normal(size=(samples, hidden))\n",
    "y = np.random.normal(size=(samples, 1))\n",
    "\n",
    "model = tf.keras.Sequential()\n",
    "for lyr in range(5):\n",
    "    model.add(tf.keras.layers.Dense(units=hidden, activation='relu'))\n",
    "model.add(tf.keras.layers.Dense(units=targets, name='predictions'))\n",
    "\n",
    "model.compile(loss='mse', optimizer='sgd')\n",
    "\n",
    "history = model.fit(x, y, epochs=epochs, batch_size=batch_size, validation_split=0.2)\n",
    "\n",
    "# tf.keras.utils.plot_model(model)\n",
    "\n",
    "plot_train_val_loss(history_dictionary=history.history, title='example', scatter=False)"
   ]
  },
  {
   "cell_type": "code",
   "execution_count": 11,
   "metadata": {},
   "outputs": [
    {
     "name": "stdout",
     "output_type": "stream",
     "text": [
      "<class 'zip'>\n"
     ]
    }
   ],
   "source": [
    "print(type(zip()))"
   ]
  },
  {
   "cell_type": "code",
   "execution_count": 2,
   "metadata": {},
   "outputs": [
    {
     "data": {
      "text/plain": [
       "array([ -2,   6,   9, -25])"
      ]
     },
     "execution_count": 2,
     "metadata": {},
     "output_type": "execute_result"
    }
   ],
   "source": [
    "# Using numpy where\n",
    "a = np.array([-1, 2, 3, -5])\n",
    "\n",
    "b = np.array([2, 3, 4, 5])\n",
    "\n",
    "np.where(a < 0, a * b, a * 3)"
   ]
  },
  {
   "cell_type": "code",
   "execution_count": 3,
   "metadata": {},
   "outputs": [
    {
     "data": {
      "text/plain": [
       "'MeanSquaredError'"
      ]
     },
     "execution_count": 3,
     "metadata": {},
     "output_type": "execute_result"
    }
   ],
   "source": [
    "def deriv_bce(y, y_hat):\n",
    "    if y == 1:\n",
    "        return -1 / y_hat\n",
    "    else:\n",
    "        return 1 / (1 - y_hat)\n",
    "\n",
    "MeanSquaredError().__class__.__name__"
   ]
  },
  {
   "cell_type": "code",
   "execution_count": 4,
   "metadata": {},
   "outputs": [
    {
     "name": "stdout",
     "output_type": "stream",
     "text": [
      "tf.Tensor([ 6. 10.], shape=(2,), dtype=float32)\n",
      "[ 6. 10.]\n"
     ]
    }
   ],
   "source": [
    "# Tf gradient stock example\n",
    "# https://www.tensorflow.org/api_docs/python/tf/GradientTape\n",
    "# Here goes the neural network weights as tf.Variable\n",
    "x = tf.Variable([3.0, 5])\n",
    "\n",
    "def dydx(var):\n",
    "    \"\"\"y = x^{2}, dydx = 2x\"\"\"\n",
    "\n",
    "    return 2 * var\n",
    "\n",
    "# TensorFlow operations executed within the context of\n",
    "# a GradientTape are  recorded for differentiation \n",
    "with tf.GradientTape() as tape:\n",
    "  # Doing the computation in the context of the gradient tape\n",
    "  # For example computing loss\n",
    "  y = x ** 2 \n",
    "\n",
    "# Getting the gradient of network weights w.r.t. loss\n",
    "dy_dx = tape.gradient(y, x) \n",
    "my_dy_dx = dydx(x.numpy())\n",
    "print(dy_dx)  # Returns 6\n",
    "print(my_dy_dx)"
   ]
  },
  {
   "cell_type": "code",
   "execution_count": 5,
   "metadata": {},
   "outputs": [
    {
     "name": "stdout",
     "output_type": "stream",
     "text": [
      "(2, 3)\n",
      "tf.Tensor([5043.25614252 5043.142572  ], shape=(2,), dtype=float64)\n",
      "[5043.25614252 5043.142572  ]\n",
      "\n",
      "tf.Tensor(\n",
      "[[  0.5844   0.     -82.    ]\n",
      " [  0.436    0.     -82.    ]], shape=(2, 3), dtype=float64)\n",
      "tf.Tensor(\n",
      "[[  0.5844   0.     -82.    ]\n",
      " [  0.436    0.     -82.    ]], shape=(2, 3), dtype=float64)\n"
     ]
    }
   ],
   "source": [
    "# MSE example\n",
    "y_true = tf.constant(np.array([[0.1234, 1., 123], [0.346, 0., 123]]))\n",
    "y_pred = tf.Variable(np.array([[1., 1., 0], [1., 0., 0]]))\n",
    "\n",
    "print(y_true.shape)\n",
    "\n",
    "mse = MeanSquaredError()\n",
    "print(mean_squared_error(y_true, y_pred))\n",
    "print(mse((y_true, y_pred), axis=-1))\n",
    "print()\n",
    "\n",
    "with tf.GradientTape() as tape:\n",
    "    C = mean_squared_error(y_true, y_pred)\n",
    "\n",
    "print(tape.gradient(C, y_pred))\n",
    "print(mse.gradient((y_true, y_pred)))"
   ]
  },
  {
   "cell_type": "code",
   "execution_count": 6,
   "metadata": {},
   "outputs": [
    {
     "name": "stdout",
     "output_type": "stream",
     "text": [
      "tf gradient tape: [0.00666667 0.22666667 0.01333333]\n",
      "mse.gradient: [0.00666667 0.22666667 0.01333333]\n"
     ]
    }
   ],
   "source": [
    "# MSE gradient example\n",
    "\n",
    "# Instantiate mse object\n",
    "mse = MeanSquaredError()\n",
    "\n",
    "# Validate MSE grad\n",
    "a_L_np = np.array([0.12, 0.35, 0.61])\n",
    "y_true_np = np.array([0.11, 0.01, 0.59])\n",
    "a_L_tf = tf.Variable(a_L_np)\n",
    "y_true_tf = tf.constant(y_true_np)\n",
    "\n",
    "# tf gradient context\n",
    "with tf.GradientTape() as tape:\n",
    "    C = mean_squared_error(y_true=y_true_tf, y_pred=a_L_tf)\n",
    "\n",
    "dC_daL = tape.gradient(C, a_L_tf)\n",
    "print('tf gradient tape:', dC_daL.numpy())\n",
    "\n",
    "# My implementation\n",
    "dC_daL_np = mse.gradient((y_true_np, a_L_np))\n",
    "print('mse.gradient:', dC_daL_np)"
   ]
  },
  {
   "cell_type": "code",
   "execution_count": 7,
   "metadata": {},
   "outputs": [
    {
     "name": "stdout",
     "output_type": "stream",
     "text": [
      "mean (axis=None) 0.25\n",
      "mean axis=-1: 0.25\n",
      "Inputs:\n",
      "y_true: [0 1 0 0]\n",
      "y_pred_logits: [-18.6    0.51   2.94 -12.8 ]\n",
      "y_pred_proba: [8.35839003e-09 6.24806474e-01 9.49788727e-01 2.76076495e-06]\n",
      "\n",
      "My implementation:\n",
      "bce(from_logits=False): 0.8654579497810978\n",
      "bce(from_logits=True): 0.8654579497810978\n",
      "\n",
      "Tensorflow:\n",
      "0.8654573847833843\n",
      "\n",
      "Random Calculations:\n",
      "TensorFlow: tf.Tensor(0.8897597402544937, shape=(), dtype=float64)\n",
      "My Implementation: 0.8897600640814369\n"
     ]
    }
   ],
   "source": [
    "# BCE example\n",
    "\n",
    "samples = 5\n",
    "dims = 4\n",
    "\n",
    "sigmoid = Sigmoid()\n",
    "\n",
    "y_true = np.array([0, 1, 0, 0])\n",
    "print('mean (axis=None)', np.mean(y_true, axis=None))\n",
    "print('mean axis=-1:', np.mean(y_true, axis=-1))\n",
    "y_pred_logits = np.array([-18.6, 0.51, 2.94, -12.8])\n",
    "y_pred_proba = sigmoid(y_pred_logits)\n",
    "\n",
    "random_true = np.random.choice(a=2, size=(samples, dims))\n",
    "random_proba = sigmoid(np.random.normal(size=(samples, dims)))\n",
    "\n",
    "print('Inputs:')\n",
    "print('y_true:', y_true)\n",
    "print('y_pred_logits:', y_pred_logits)\n",
    "print('y_pred_proba:', y_pred_proba)\n",
    "\n",
    "bce_fl = BinaryCrossEntropy(from_logits=True)\n",
    "bce = BinaryCrossEntropy()\n",
    "\n",
    "print()\n",
    "print('My implementation:')\n",
    "print('bce(from_logits=False):', bce((y_true, y_pred_proba)))\n",
    "print('bce(from_logits=True):', bce_fl((y_true, y_pred_logits)))\n",
    "\n",
    "print()\n",
    "print('Tensorflow:')\n",
    "print(binary_crossentropy(y_true, y_pred_proba).numpy())\n",
    "\n",
    "print()\n",
    "print('Random Calculations:')\n",
    "print('TensorFlow:', tf.reduce_mean(binary_crossentropy(y_true=random_true, y_pred=random_proba)))\n",
    "print('My Implementation:', bce((random_true, random_proba)))"
   ]
  },
  {
   "cell_type": "code",
   "execution_count": 8,
   "metadata": {},
   "outputs": [
    {
     "name": "stdout",
     "output_type": "stream",
     "text": [
      "tf: 0.8654579497810972\n",
      "np: 0.8654579497810972\n"
     ]
    }
   ],
   "source": [
    "# BCE from logits example\n",
    "from_logits_cce = SigmoidCrossEntropyWithLogits()\n",
    "y_true = np.array([0, 1, 0, 0])\n",
    "y_pred_logits = np.array([-18.6, 0.51, 2.94, -12.8])\n",
    "\n",
    "from_logits_cce_np_results = from_logits_cce((y_true, y_pred_logits))\n",
    "from_logits_cce_tf_results = binary_crossentropy(\n",
    "    y_true, y_pred_logits, from_logits=True)\n",
    "\n",
    "print('tf:', from_logits_cce_tf_results.numpy())\n",
    "print('np:', from_logits_cce_np_results)"
   ]
  },
  {
   "cell_type": "code",
   "execution_count": 9,
   "metadata": {},
   "outputs": [
    {
     "name": "stdout",
     "output_type": "stream",
     "text": [
      "tf: [ 2.08959751e-09 -9.37983814e-02  2.37447182e-01  6.90191238e-07]\n",
      "np: [0 0 1 0]\n"
     ]
    }
   ],
   "source": [
    "# BCE from logits gradient\n",
    "from_logits_cce = SigmoidCrossEntropyWithLogits()\n",
    "y_true = tf.constant(np.array([0, 1, 0, 0]))\n",
    "y_pred_logits = tf.Variable(np.array([-18.6, 0.51, 2.94, -12.8]))\n",
    "\n",
    "with tf.GradientTape() as tape:\n",
    "    from_logits_cce_tf_results = binary_crossentropy(\n",
    "        y_true, y_pred_logits, from_logits=True)\n",
    "\n",
    "from_logits_cce_tf_grad = tape.gradient(from_logits_cce_tf_results, y_pred_logits)\n",
    "from_logits_cce_np_grad = from_logits_cce.gradient((y_true, y_pred_logits))\n",
    "\n",
    "print('tf:', from_logits_cce_tf_grad.numpy())\n",
    "print('np:', from_logits_cce_np_grad)"
   ]
  },
  {
   "cell_type": "code",
   "execution_count": 18,
   "metadata": {},
   "outputs": [
    {
     "name": "stdout",
     "output_type": "stream",
     "text": [
      "TensorFlow:\n",
      "tf.Tensor([ 0.         -0.4016326   4.97895166  0.25000067], shape=(4,), dtype=float64)\n",
      "\n",
      "My Implementation:\n",
      "tf.Tensor([ 1.00000001 -1.60653066 19.91584631  1.00000276], shape=(4,), dtype=float64)\n",
      "[-2.]\n"
     ]
    }
   ],
   "source": [
    "# BCE gradient example\n",
    "\n",
    "samples = 5\n",
    "dims = 4\n",
    "\n",
    "sigmoid = Sigmoid()\n",
    "bce = BinaryCrossEntropy()\n",
    "\n",
    "y_true = tf.constant(np.array([0., 1., 0., 0.]))\n",
    "y_pred_logits = np.array([-18.6, 0.5, 2.94, -12.8])\n",
    "y_pred_proba = tf.Variable(sigmoid(y_pred_logits))\n",
    "y_pred_single_proba = np.array([0.5])\n",
    "y_true_single_response = np.array(1.)\n",
    "\n",
    "random_true = np.random.choice(a=2, size=(samples, dims))\n",
    "\n",
    "with tf.GradientTape() as tape:\n",
    "    C = binary_crossentropy(y_true, y_pred_proba)\n",
    "\n",
    "print('TensorFlow:')\n",
    "dC_dProbaActivation = tape.gradient(C, y_pred_proba)\n",
    "print(dC_dProbaActivation)\n",
    "print()\n",
    "\n",
    "print('My Implementation:')\n",
    "dC_dProbaActivationMine = bce.gradient((y_true, y_pred_proba))\n",
    "print(dC_dProbaActivationMine)\n",
    "\n",
    "print(bce.gradient((y_true_single_response, y_pred_single_proba)))"
   ]
  },
  {
   "cell_type": "code",
   "execution_count": 4,
   "metadata": {},
   "outputs": [
    {
     "name": "stdout",
     "output_type": "stream",
     "text": [
      "[[14  2 11  0]\n",
      " [14  3  5 12]\n",
      " [ 9 10  4 11]\n",
      " [ 4  6  4 15]] (4, 4)\n",
      "[[ 0.8644362 ]\n",
      " [-0.74216502]\n",
      " [ 2.26975462]\n",
      " [-1.45436567]\n",
      " [ 0.04575852]\n",
      " [-0.18718385]\n",
      " [ 1.53277921]\n",
      " [ 1.46935877]\n",
      " [ 0.15494743]\n",
      " [ 0.37816252]\n",
      " [-0.88778575]\n",
      " [-1.98079647]\n",
      " [-0.34791215]\n",
      " [ 0.15634897]\n",
      " [ 1.23029068]\n",
      " [ 1.20237985]] (16, 1)\n",
      "(4, 4, 1)\n",
      "\n",
      "[[ 1.23029068]\n",
      " [ 2.26975462]\n",
      " [-1.98079647]\n",
      " [ 0.8644362 ]]\n",
      "[[ 1.23029068]\n",
      " [-1.45436567]\n",
      " [-0.18718385]\n",
      " [-0.34791215]]\n",
      "[[ 0.37816252]\n",
      " [-0.88778575]\n",
      " [ 0.04575852]\n",
      " [-1.98079647]]\n",
      "[[0.04575852]\n",
      " [1.53277921]\n",
      " [0.04575852]\n",
      " [1.20237985]]\n"
     ]
    }
   ],
   "source": [
    "# X matrix\n",
    "batch_size = 4\n",
    "\n",
    "X = np.random.normal(size=(16, 1))\n",
    "\n",
    "num_samples = X.shape[0]\n",
    "num_batches = num_samples//batch_size\n",
    "batch_indices = np.random.choice(num_samples, size=(num_batches, batch_size))\n",
    "\n",
    "print(batch_indices, batch_indices.shape)\n",
    "print(X, X.shape)\n",
    "print(X[batch_indices].shape)\n",
    "print()\n",
    "\n",
    "for batch in X[batch_indices]:\n",
    "    print(batch)"
   ]
  },
  {
   "cell_type": "code",
   "execution_count": null,
   "metadata": {},
   "outputs": [],
   "source": [
    "targets = 1\n",
    "batch_size = 32\n",
    "A = np.random.normal(size=(batch_size, targets))\n",
    "y_true = np.random.normal(size=(batch_size, targets))\n",
    "Z = np.random.normal(size=(batch_size, targets))\n",
    "\n",
    "def compute_delta_L(a, y, z):\n",
    "    \"\"\"\"\"\"\n",
    "    return np.random.choice(size=(z.shape[0]))\n",
    "\n",
    "delta_L = np.apply_along_axis()"
   ]
  },
  {
   "cell_type": "code",
   "execution_count": null,
   "metadata": {},
   "outputs": [],
   "source": [
    "# (W^{l+1}_jk)^T DOT d_^{l+1}j HADAMARD phi(z_j)\n",
    "# C_k1 HADAMARD \n",
    "# j = num_neurons_in_cur_layer = 2\n",
    "# k = num_neurons_in_prev_layer = 3\n",
    "# o         o     \n",
    "#           o          o\n",
    "# o         o \n",
    "#       j=3, k=2    j=1, k=3\n",
    "# (W^{l+1}_13)^T DOT d^{l+1}_1 H phi(z_3)\n",
    "# W^{l+1}_31 DOT d^{l+1}_1 H phi(z_3)\n",
    "# C_3 H Phi(z_3)"
   ]
  },
  {
   "cell_type": "code",
   "execution_count": 3,
   "metadata": {},
   "outputs": [
    {
     "name": "stdout",
     "output_type": "stream",
     "text": [
      "(1, 32)\n",
      "(1, 32)\n",
      "(32,)\n"
     ]
    }
   ],
   "source": [
    "a = np.random.normal(size=(32, 1))\n",
    "b = np.random.normal(size=(32, 1))\n",
    "c = np.random.normal(size=(32,))\n",
    "\n",
    "print(np.atleast_2d(c).shape)\n",
    "\n",
    "print(np.transpose(a).shape)\n",
    "print(np.transpose(c).shape)"
   ]
  },
  {
   "cell_type": "code",
   "execution_count": 5,
   "metadata": {},
   "outputs": [
    {
     "name": "stdout",
     "output_type": "stream",
     "text": [
      "[0 1 2 3 4]\n",
      "hadamard [0 2 4 6 8]\n",
      "20\n"
     ]
    }
   ],
   "source": [
    "x = np.arange(0, 5)\n",
    "y = np.full_like(x, fill_value=2)\n",
    "\n",
    "print(x)\n",
    "print('hadamard', x * y)\n",
    "print(np.dot(x, y))"
   ]
  },
  {
   "cell_type": "code",
   "execution_count": 7,
   "metadata": {},
   "outputs": [
    {
     "data": {
      "text/plain": [
       "<matplotlib.collections.PathCollection at 0x25d665b6820>"
      ]
     },
     "execution_count": 7,
     "metadata": {},
     "output_type": "execute_result"
    },
    {
     "data": {
      "image/png": "[encoded data removed]",
      "text/plain": [
       "<Figure size 432x288 with 1 Axes>"
      ]
     },
     "metadata": {
      "needs_background": "light"
     },
     "output_type": "display_data"
    }
   ],
   "source": [
    "x = np.linspace(-5, 5)\n",
    "y = ReLU()(x)\n",
    "dydx = ReLU().derivative(x)\n",
    "plt.scatter(x, y)\n",
    "plt.scatter(x, dydx)"
   ]
  },
  {
   "cell_type": "code",
   "execution_count": 8,
   "metadata": {},
   "outputs": [],
   "source": [
    "# Input data\n",
    "rows = 5\n",
    "cols = 10\n",
    "input_vector = np.random.normal(size=(rows, cols))\n",
    "dummy_pred_vector = np.random.normal(size=(rows, cols))"
   ]
  },
  {
   "cell_type": "code",
   "execution_count": 9,
   "metadata": {},
   "outputs": [],
   "source": [
    "# Instantiate Layer\n",
    "lyr = DenseLayer(input_dims=input_vector.shape[-1], num_units=2)"
   ]
  },
  {
   "cell_type": "code",
   "execution_count": 10,
   "metadata": {},
   "outputs": [
    {
     "name": "stdout",
     "output_type": "stream",
     "text": [
      "input: (5, 10)\n",
      "output: (5, 2) (5, 2)\n",
      "[[-0.42647349 -0.24779502]\n",
      " [-0.28689659 -0.40105034]\n",
      " [-0.32231351 -0.45992227]\n",
      " [-0.18448811  0.24800787]\n",
      " [ 0.17294692  0.21348298]] \n",
      "\n",
      " [[-0.42647349 -0.24779502]\n",
      " [-0.28689659 -0.40105034]\n",
      " [-0.32231351 -0.45992227]\n",
      " [-0.18448811  0.24800787]\n",
      " [ 0.17294692  0.21348298]]\n"
     ]
    }
   ],
   "source": [
    "# Layer call\n",
    "lyr_activations, lyr_wt_inputs = lyr(input_vector)\n",
    "print('input:', input_vector.shape)\n",
    "print('output:', lyr_activations.shape, lyr_wt_inputs.shape)\n",
    "print(lyr_activations, '\\n\\n', lyr_wt_inputs)"
   ]
  },
  {
   "cell_type": "code",
   "execution_count": 13,
   "metadata": {},
   "outputs": [
    {
     "data": {
      "text/plain": [
       "([], [])"
      ]
     },
     "execution_count": 13,
     "metadata": {},
     "output_type": "execute_result"
    }
   ],
   "source": [
    "model = MLP(input_dims=input_vector.shape[-1], hidden_units=2, targets=1, loss_function=mse, learning_rate=1e-3, l_layers=2)"
   ]
  },
  {
   "cell_type": "code",
   "execution_count": 20,
   "metadata": {},
   "outputs": [
    {
     "name": "stdout",
     "output_type": "stream",
     "text": [
      "[[ 0.13224191]\n",
      " [ 0.01783743]\n",
      " [-0.16562248]\n",
      " [-0.15245786]\n",
      " [-0.05169993]]\n",
      "(5, 1)\n"
     ]
    }
   ],
   "source": [
    "# Result of forward pass\n",
    "fwd = model._forward_pass(inputs=input_vector)\n",
    "print(fwd)\n",
    "print(fwd.shape)"
   ]
  },
  {
   "cell_type": "code",
   "execution_count": null,
   "metadata": {},
   "outputs": [
    {
     "name": "stdout",
     "output_type": "stream",
     "text": [
      "3\n",
      "[[22 51 90 17 94 76 89 87  8 53 98 55 50 31 26 28 88 79 34 74 39 85 12 16\n",
      "  83 64 20 67 58 77 25  7]\n",
      " [86 36 21 72 84 57  9 11 96 82 68 49  5 14 15 37 19 33 69 78 59 56  4 91\n",
      "  75  6 95 44 65 62 29 40]\n",
      " [71 24 81 41 73 45 13 23 42 52 92 38 63 60  2 46 70 93 32  3  0 80 97 99\n",
      "   1 30 48 27 47 43 18 10]]\n"
     ]
    }
   ],
   "source": [
    "batch_size = 32\n",
    "samples = 100\n",
    "y_batch_indices = np.random.choice(\n",
    "            a=samples, size=(samples//batch_size, batch_size), replace=False) "
   ]
  },
  {
   "cell_type": "code",
   "execution_count": null,
   "metadata": {},
   "outputs": [],
   "source": []
  }
 ],
 "metadata": {
  "interpreter": {
   "hash": "07f0aceed467d0cbae7569fecdfaec78063cba8e23481668ef588a8de6eba6e0"
  },
  "kernelspec": {
   "display_name": "Python 3.9.6 64-bit ('blue-mars': conda)",
   "language": "python",
   "name": "python3"
  },
  "language_info": {
   "codemirror_mode": {
    "name": "ipython",
    "version": 3
   },
   "file_extension": ".py",
   "mimetype": "text/x-python",
   "name": "python",
   "nbconvert_exporter": "python",
   "pygments_lexer": "ipython3",
   "version": "3.9.7"
  },
  "orig_nbformat": 4
 },
 "nbformat": 4,
 "nbformat_minor": 2
}
