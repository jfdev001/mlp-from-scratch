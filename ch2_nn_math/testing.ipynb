{
 "cells": [
  {
   "cell_type": "code",
   "execution_count": 2,
   "metadata": {},
   "outputs": [],
   "source": [
    "import numpy as np\n",
    "from typing import Tuple, Optional, Union\n",
    "\n",
    "import matplotlib.pyplot as plt\n",
    "\n",
    "from mlp import DenseLayer, MLP\n",
    "from ops import ReLU, MeanSquaredError\n",
    "\n",
    "np.random.seed(0)"
   ]
  },
  {
   "cell_type": "code",
   "execution_count": 6,
   "metadata": {},
   "outputs": [
    {
     "name": "stdout",
     "output_type": "stream",
     "text": [
      "[1 2 3 4]\n",
      "30\n",
      "30\n"
     ]
    }
   ],
   "source": [
    "x = np.arange(1, 5)\n",
    "print(x)\n",
    "print(np.dot(x, x))\n",
    "\n",
    "lst = []\n",
    "for ele in x:\n",
    "    lst.append(ele * ele)\n",
    "\n",
    "print(sum(lst))"
   ]
  },
  {
   "cell_type": "code",
   "execution_count": null,
   "metadata": {},
   "outputs": [],
   "source": [
    "# (W^{l+1}_jk)^T DOT d_^{l+1}j HADAMARD phi(z_j)\n",
    "# C_k1 HADAMARD \n",
    "# j = num_neurons_in_cur_layer = 2\n",
    "# k = num_neurons_in_prev_layer = 3\n",
    "# o         o     \n",
    "#           o          o\n",
    "# o         o \n",
    "#       j=3, k=2    j=1, k=3\n",
    "# (W^{l+1}_13)^T DOT d^{l+1}_1 H phi(z_3)\n",
    "# W^{l+1}_31 DOT d^{l+1}_1 H phi(z_3)\n",
    "# C_3 H Phi(z_3)"
   ]
  },
  {
   "cell_type": "code",
   "execution_count": 3,
   "metadata": {},
   "outputs": [
    {
     "name": "stdout",
     "output_type": "stream",
     "text": [
      "(1, 32)\n",
      "(1, 32)\n",
      "(32,)\n"
     ]
    }
   ],
   "source": [
    "a = np.random.normal(size=(32, 1))\n",
    "b = np.random.normal(size=(32, 1))\n",
    "c = np.random.normal(size=(32,))\n",
    "\n",
    "print(np.atleast_2d(c).shape)\n",
    "\n",
    "print(np.transpose(a).shape)\n",
    "print(np.transpose(c).shape)"
   ]
  },
  {
   "cell_type": "code",
   "execution_count": 5,
   "metadata": {},
   "outputs": [
    {
     "name": "stdout",
     "output_type": "stream",
     "text": [
      "[0 1 2 3 4]\n",
      "hadamard [0 2 4 6 8]\n",
      "20\n"
     ]
    }
   ],
   "source": [
    "x = np.arange(0, 5)\n",
    "y = np.full_like(x, fill_value=2)\n",
    "\n",
    "print(x)\n",
    "print('hadamard', x * y)\n",
    "print(np.dot(x, y))"
   ]
  },
  {
   "cell_type": "code",
   "execution_count": 7,
   "metadata": {},
   "outputs": [
    {
     "data": {
      "text/plain": [
       "<matplotlib.collections.PathCollection at 0x25d665b6820>"
      ]
     },
     "execution_count": 7,
     "metadata": {},
     "output_type": "execute_result"
    },
    {
     "data": {
      "image/png": "[encoded data removed]",
      "text/plain": [
       "<Figure size 432x288 with 1 Axes>"
      ]
     },
     "metadata": {
      "needs_background": "light"
     },
     "output_type": "display_data"
    }
   ],
   "source": [
    "x = np.linspace(-5, 5)\n",
    "y = ReLU()(x)\n",
    "dydx = ReLU().derivative(x)\n",
    "plt.scatter(x, y)\n",
    "plt.scatter(x, dydx)"
   ]
  },
  {
   "cell_type": "code",
   "execution_count": 8,
   "metadata": {},
   "outputs": [],
   "source": [
    "# Input data\n",
    "rows = 5\n",
    "cols = 10\n",
    "input_vector = np.random.normal(size=(rows, cols))\n",
    "dummy_pred_vector = np.random.normal(size=(rows, cols))"
   ]
  },
  {
   "cell_type": "code",
   "execution_count": 9,
   "metadata": {},
   "outputs": [],
   "source": [
    "# Instantiate Layer\n",
    "lyr = DenseLayer(input_dims=input_vector.shape[-1], num_units=2)"
   ]
  },
  {
   "cell_type": "code",
   "execution_count": 10,
   "metadata": {},
   "outputs": [
    {
     "name": "stdout",
     "output_type": "stream",
     "text": [
      "input: (5, 10)\n",
      "output: (5, 2) (5, 2)\n",
      "[[-0.42647349 -0.24779502]\n",
      " [-0.28689659 -0.40105034]\n",
      " [-0.32231351 -0.45992227]\n",
      " [-0.18448811  0.24800787]\n",
      " [ 0.17294692  0.21348298]] \n",
      "\n",
      " [[-0.42647349 -0.24779502]\n",
      " [-0.28689659 -0.40105034]\n",
      " [-0.32231351 -0.45992227]\n",
      " [-0.18448811  0.24800787]\n",
      " [ 0.17294692  0.21348298]]\n"
     ]
    }
   ],
   "source": [
    "# Layer call\n",
    "lyr_activations, lyr_wt_inputs = lyr(input_vector)\n",
    "print('input:', input_vector.shape)\n",
    "print('output:', lyr_activations.shape, lyr_wt_inputs.shape)\n",
    "print(lyr_activations, '\\n\\n', lyr_wt_inputs)"
   ]
  },
  {
   "cell_type": "code",
   "execution_count": 13,
   "metadata": {},
   "outputs": [
    {
     "data": {
      "text/plain": [
       "([], [])"
      ]
     },
     "execution_count": 13,
     "metadata": {},
     "output_type": "execute_result"
    }
   ],
   "source": [
    "model = MLP(input_dims=input_vector.shape[-1], hidden_units=2, targets=1, loss_function=mse, learning_rate=1e-3, l_layers=2)"
   ]
  },
  {
   "cell_type": "code",
   "execution_count": 20,
   "metadata": {},
   "outputs": [
    {
     "name": "stdout",
     "output_type": "stream",
     "text": [
      "[[ 0.13224191]\n",
      " [ 0.01783743]\n",
      " [-0.16562248]\n",
      " [-0.15245786]\n",
      " [-0.05169993]]\n",
      "(5, 1)\n"
     ]
    }
   ],
   "source": [
    "# Result of forward pass\n",
    "fwd = model._forward_pass(inputs=input_vector)\n",
    "print(fwd)\n",
    "print(fwd.shape)"
   ]
  },
  {
   "cell_type": "code",
   "execution_count": null,
   "metadata": {},
   "outputs": [
    {
     "name": "stdout",
     "output_type": "stream",
     "text": [
      "3\n",
      "[[22 51 90 17 94 76 89 87  8 53 98 55 50 31 26 28 88 79 34 74 39 85 12 16\n",
      "  83 64 20 67 58 77 25  7]\n",
      " [86 36 21 72 84 57  9 11 96 82 68 49  5 14 15 37 19 33 69 78 59 56  4 91\n",
      "  75  6 95 44 65 62 29 40]\n",
      " [71 24 81 41 73 45 13 23 42 52 92 38 63 60  2 46 70 93 32  3  0 80 97 99\n",
      "   1 30 48 27 47 43 18 10]]\n"
     ]
    }
   ],
   "source": [
    "batch_size = 32\n",
    "samples = 100\n",
    "y_batch_indices = np.random.choice(\n",
    "            a=samples, size=(samples//batch_size, batch_size), replace=False) "
   ]
  },
  {
   "cell_type": "code",
   "execution_count": null,
   "metadata": {},
   "outputs": [],
   "source": []
  }
 ],
 "metadata": {
  "interpreter": {
   "hash": "07f0aceed467d0cbae7569fecdfaec78063cba8e23481668ef588a8de6eba6e0"
  },
  "kernelspec": {
   "display_name": "Python 3.9.6 64-bit ('blue-mars': conda)",
   "language": "python",
   "name": "python3"
  },
  "language_info": {
   "codemirror_mode": {
    "name": "ipython",
    "version": 3
   },
   "file_extension": ".py",
   "mimetype": "text/x-python",
   "name": "python",
   "nbconvert_exporter": "python",
   "pygments_lexer": "ipython3",
   "version": "3.9.7"
  },
  "orig_nbformat": 4
 },
 "nbformat": 4,
 "nbformat_minor": 2
}
