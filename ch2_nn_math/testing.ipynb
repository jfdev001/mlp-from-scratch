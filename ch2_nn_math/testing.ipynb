{
 "cells": [
  {
   "cell_type": "code",
   "execution_count": 31,
   "metadata": {},
   "outputs": [],
   "source": [
    "import numpy as np\n",
    "from mlp import DenseLayer, MLP\n",
    "\n",
    "def mse(y_true: np.ndarray, y_pred: np.ndarray) -> np.float64:\n",
    "    return np.mean(np.square(y_true - y_pred))"
   ]
  },
  {
   "cell_type": "code",
   "execution_count": 32,
   "metadata": {},
   "outputs": [],
   "source": [
    "# Input data\n",
    "rows = 5\n",
    "cols = 10\n",
    "input_vector = np.random.normal(size=(rows, cols))\n",
    "dummy_pred_vector = np.random.normal(size=(rows, cols))"
   ]
  },
  {
   "cell_type": "code",
   "execution_count": 33,
   "metadata": {},
   "outputs": [],
   "source": [
    "# Instantiate Layer\n",
    "lyr = DenseLayer(input_dims=input_vector.shape[-1], num_units=2)"
   ]
  },
  {
   "cell_type": "code",
   "execution_count": 34,
   "metadata": {},
   "outputs": [
    {
     "name": "stdout",
     "output_type": "stream",
     "text": [
      "input: (5, 10)\n",
      "output: (5, 2)\n",
      "[[-0.40088959 -0.36042339]\n",
      " [-0.93647724  0.92839988]\n",
      " [-1.45723888  0.98214429]\n",
      " [ 0.43034205 -0.37915706]\n",
      " [-0.03677035  0.50699359]]\n"
     ]
    }
   ],
   "source": [
    "# Layer call\n",
    "lyr_output = lyr(input_vector)\n",
    "print('input:', input_vector.shape)\n",
    "print('output:', lyr_output.shape)\n",
    "print(lyr_output)"
   ]
  },
  {
   "cell_type": "code",
   "execution_count": 7,
   "metadata": {},
   "outputs": [],
   "source": [
    "model = MLP(input_dims=input_vector.shape[0], hidden_units=2, targets=1, loss_function=mse, learning_rate=1e-3)"
   ]
  },
  {
   "cell_type": "code",
   "execution_count": 8,
   "metadata": {},
   "outputs": [
    {
     "name": "stdout",
     "output_type": "stream",
     "text": [
      "[-0.10329512]\n",
      "(1,)\n"
     ]
    }
   ],
   "source": [
    "# Result of forward pass\n",
    "fwd = model._forward_pass(inputs=input_vector)\n",
    "print(fwd)\n",
    "print(fwd.shape)"
   ]
  },
  {
   "cell_type": "code",
   "execution_count": 16,
   "metadata": {},
   "outputs": [
    {
     "name": "stdout",
     "output_type": "stream",
     "text": [
      "3\n",
      "[[22 51 90 17 94 76 89 87  8 53 98 55 50 31 26 28 88 79 34 74 39 85 12 16\n",
      "  83 64 20 67 58 77 25  7]\n",
      " [86 36 21 72 84 57  9 11 96 82 68 49  5 14 15 37 19 33 69 78 59 56  4 91\n",
      "  75  6 95 44 65 62 29 40]\n",
      " [71 24 81 41 73 45 13 23 42 52 92 38 63 60  2 46 70 93 32  3  0 80 97 99\n",
      "   1 30 48 27 47 43 18 10]]\n"
     ]
    }
   ],
   "source": [
    "batch_size = 32\n",
    "samples = 100\n",
    "y_batch_indices = np.random.choice(\n",
    "            a=samples, size=(samples//batch_size, batch_size), replace=False) "
   ]
  },
  {
   "cell_type": "code",
   "execution_count": null,
   "metadata": {},
   "outputs": [],
   "source": []
  }
 ],
 "metadata": {
  "interpreter": {
   "hash": "07f0aceed467d0cbae7569fecdfaec78063cba8e23481668ef588a8de6eba6e0"
  },
  "kernelspec": {
   "display_name": "Python 3.9.6 64-bit ('blue-mars': conda)",
   "language": "python",
   "name": "python3"
  },
  "language_info": {
   "codemirror_mode": {
    "name": "ipython",
    "version": 3
   },
   "file_extension": ".py",
   "mimetype": "text/x-python",
   "name": "python",
   "nbconvert_exporter": "python",
   "pygments_lexer": "ipython3",
   "version": "3.9.7"
  },
  "orig_nbformat": 4
 },
 "nbformat": 4,
 "nbformat_minor": 2
}
