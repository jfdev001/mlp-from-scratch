{
 "cells": [
  {
   "cell_type": "code",
   "execution_count": 11,
   "metadata": {},
   "outputs": [
    {
     "data": {
      "text/plain": [
       "[<matplotlib.lines.Line2D at 0x2ab6f989c10>]"
      ]
     },
     "execution_count": 11,
     "metadata": {},
     "output_type": "execute_result"
    },
    {
     "data": {
      "image/png": "[encoded data removed]",
      "text/plain": [
       "<Figure size 432x288 with 1 Axes>"
      ]
     },
     "metadata": {
      "needs_background": "light"
     },
     "output_type": "display_data"
    }
   ],
   "source": [
    "import numpy as np\n",
    "from typing import Tuple, Optional, Union\n",
    "\n",
    "from tensorflow.keras.losses import binary_crossentropy, mean_squared_error\n",
    "import tensorflow as tf\n",
    "\n",
    "import matplotlib.pyplot as plt\n",
    "\n",
    "from mlp import DenseLayer, MLP\n",
    "from ops import ReLU, MeanSquaredError, BinaryCrossEntropy, Sigmoid\n",
    "\n",
    "np.random.seed(0)"
   ]
  },
  {
   "cell_type": "code",
   "execution_count": 19,
   "metadata": {},
   "outputs": [],
   "source": [
    "def deriv_bce(y, y_hat):\n",
    "    if y == 1:\n",
    "        return -1 / y_hat\n",
    "    else:\n",
    "        return 1 / (1 - y_hat)"
   ]
  },
  {
   "cell_type": "code",
   "execution_count": 24,
   "metadata": {},
   "outputs": [
    {
     "name": "stdout",
     "output_type": "stream",
     "text": [
      "-- MSE -- \n",
      "tf gradient tape: [0.00666667 0.22666667 0.01333333]\n",
      "mse.gradient: [0.00666667 0.22666667 0.01333333]\n",
      "\n",
      "-- BCE --\n",
      "tf gradient tape: [ 0.         -0.40012383  4.97895166  0.25000067]\n",
      "bce.gradient: [ 1.00000001 -1.60049558 19.91584631  1.00000276]\n",
      "ml master deriv bce: [1.00000000835839, -1.600495578812266, 19.915846312255084, 1.000002760772572]\n"
     ]
    }
   ],
   "source": [
    "# Stack overflow\n",
    "from typing import Optional, Union\n",
    "\n",
    "import numpy as np\n",
    "\n",
    "from tensorflow.keras.losses import binary_crossentropy, mean_squared_error\n",
    "import tensorflow as tf\n",
    "\n",
    "\n",
    "class MeanSquaredError:\n",
    "    \"\"\"Mean squared error cost (loss) function.\n",
    "\n",
    "    The predictions are the activations of the network. The order of\n",
    "    arguments in the `derivative` was based on\n",
    "    `Four fundamental equations behind backpropagation` from\n",
    "    Nielsen (Ch.2, 2015). Similarly, the gradient calculation in BP1a of \n",
    "    is described in the same resource.\n",
    "    \"\"\"\n",
    "\n",
    "    def gradient(\n",
    "            self, inputs: tuple[np.ndarray, np.ndarray]) -> np.ndarray:\n",
    "        \"\"\"Computes the gradient with respect to all activations (preds).\n",
    "\n",
    "        This is a vectorized function and is called on each element of \n",
    "        an activation vector in order to compute the partial derivative\n",
    "        of the cost with respect to the j^{th} activation for the \n",
    "        l^{th} layer.\n",
    "\n",
    "        MSE = (1/dims) * (pred - true)^{2}\n",
    "        dMSE/dPred =  (2/dim) * (pred - true)\n",
    "\n",
    "        Args:\n",
    "            inputs: Targets, predictions vectors.\n",
    "\n",
    "        Returns:\n",
    "            Vector (gradient) of values.\n",
    "        \"\"\"\n",
    "\n",
    "        targets, predictions = inputs\n",
    "        return (2 / targets.shape[-1]) * (predictions - targets)\n",
    "\n",
    "    def __call__(\n",
    "            self,\n",
    "            inputs: tuple[np.ndarray, np.ndarray],\n",
    "            axis: Optional[int] = None) -> np.float64:\n",
    "        \"\"\"Compute cost given inputs.\n",
    "\n",
    "        Args:\n",
    "            inputs: Targets and predictions vectors.\n",
    "\n",
    "        Return:\n",
    "            Scalar cost.\n",
    "        \"\"\"\n",
    "\n",
    "        targets, predictions = inputs\n",
    "        return np.mean(np.square(targets - predictions), axis=axis)\n",
    "\n",
    "class BinaryCrossEntropy:\n",
    "    \"\"\"Binary cross entropy loss (cost) function.\"\"\"\n",
    "\n",
    "    def __init__(self, from_logits: bool = False):\n",
    "        \"\"\"Initializes sigmoid function for binary cross entropy.\n",
    "\n",
    "        Args:\n",
    "         from_logits: True for logits, false for normalized log \n",
    "                probabilities (i.e., used sigmoid activation function).\n",
    "                Assumes not from logits.\n",
    "        \"\"\"\n",
    "\n",
    "        self.sigmoid = lambda t: 1 / (1 + np.exp(-t))\n",
    "        self.from_logits = from_logits\n",
    "\n",
    "    def gradient(self, inputs: tuple[np.ndarray, np.ndarray]) -> np.ndarray:\n",
    "        \"\"\"Derivative with respect to a single activation (same as derivative).\n",
    "\n",
    "        Should there be a from logits check here??\n",
    "\n",
    "        Args:\n",
    "            inputs: Targets, predictions vectors. Presumably, the inputs \n",
    "            here also have to be normalized log probabilities.\n",
    "\n",
    "        Returns:\n",
    "            Vector (gradient) of values.\n",
    "        \"\"\"\n",
    "        targets, predictions = inputs\n",
    "\n",
    "        if self.from_logits:\n",
    "            predictions = self.sigmoid(predictions)\n",
    "\n",
    "        return -1 * ((targets/predictions) - ((1-targets) / (1-predictions)))\n",
    "\n",
    "    def __call__(self,\n",
    "                 inputs: tuple[np.ndarray, np.ndarray],\n",
    "                 axis: Optional[int] = None) -> np.ndarray:\n",
    "        \"\"\"Compute cost given inputs.\n",
    "\n",
    "        Args:\n",
    "            inputs: Targets and predictions vectors. \n",
    "                Assumes predictions are not from logits.\n",
    "\n",
    "        Return:\n",
    "            Scalar cost.\n",
    "        \"\"\"\n",
    "\n",
    "        targets, predictions = inputs\n",
    "\n",
    "        if self.from_logits:\n",
    "            predictions = self.sigmoid(predictions)\n",
    "\n",
    "        return -1 * np.mean(targets * np.log(predictions) + (1 - targets) * np.log(1 - predictions), axis=axis)\n",
    "\n",
    "# MSE gradient example\n",
    "\n",
    "# Instantiate cost function objects\n",
    "mse = MeanSquaredError()\n",
    "bce = BinaryCrossEntropy()\n",
    "\n",
    "# Validate MSE grad\n",
    "a_L_np = np.array([0.12, 0.35, 0.61])\n",
    "y_true_np = np.array([0.11, 0.01, 0.59])\n",
    "a_L_tf = tf.Variable(a_L_np)\n",
    "y_true_tf = tf.constant(y_true_np)\n",
    "\n",
    "# tf gradient context\n",
    "with tf.GradientTape() as tape:\n",
    "    C = mean_squared_error(y_true=y_true_tf, y_pred=a_L_tf)\n",
    "\n",
    "dC_daL = tape.gradient(C, a_L_tf)\n",
    "print('-- MSE -- ')\n",
    "print('tf gradient tape:', dC_daL.numpy())\n",
    "\n",
    "# My implementation\n",
    "dC_daL_np = mse.gradient((y_true_np, a_L_np))\n",
    "print('mse.gradient:', dC_daL_np)\n",
    "print()\n",
    "\n",
    "#### BCE ####\n",
    "y_true = tf.constant(np.array([0., 1., 0., 0.]))\n",
    "y_pred_logits = np.array([-18.6, 0.51, 2.94, -12.8])\n",
    "y_pred_proba = tf.Variable(sigmoid(y_pred_logits))\n",
    "\n",
    "with tf.GradientTape() as tape:\n",
    "    C = binary_crossentropy(y_true, y_pred_proba)\n",
    "\n",
    "print('-- BCE --')\n",
    "dC_dProbaActivation = tape.gradient(C, y_pred_proba)\n",
    "print('tf gradient tape:', dC_dProbaActivation.numpy())\n",
    "dC_dProbaActivationMine = bce.gradient((y_true, y_pred_proba))\n",
    "print('bce.gradient:', dC_dProbaActivationMine.numpy())\n",
    "print('ml master deriv bce:', [deriv_bce(y_true[sample].numpy(), y_pred_proba[sample].numpy()) for sample in range(y_true.shape[0])])\n",
    "\n",
    "#### Outputs ####\n",
    "# -- MSE -- \n",
    "# tf gradient tape: [0.00666667 0.22666667 0.01333333]\n",
    "# mse.gradient: [0.00666667 0.22666667 0.01333333]\n",
    "\n",
    "# -- BCE --\n",
    "# tf gradient tape: [ 0.         -0.40012383  4.97895166  0.25000067]\n",
    "# bce.gradient: [ 1.00000001 -1.60049558 19.91584631  1.00000276]"
   ]
  },
  {
   "cell_type": "code",
   "execution_count": null,
   "metadata": {},
   "outputs": [],
   "source": [
    "# Tf gradient stock example\n",
    "# https://www.tensorflow.org/api_docs/python/tf/GradientTape\n",
    "# Here goes the neural network weights as tf.Variable\n",
    "x = tf.Variable([3.0, 5])\n",
    "\n",
    "def dydx(var):\n",
    "    \"\"\"y = x^{2}, dydx = 2x\"\"\"\n",
    "\n",
    "    return 2 * var\n",
    "\n",
    "# TensorFlow operations executed within the context of\n",
    "# a GradientTape are  recorded for differentiation \n",
    "with tf.GradientTape() as tape:\n",
    "  # Doing the computation in the context of the gradient tape\n",
    "  # For example computing loss\n",
    "  y = x ** 2 \n",
    "\n",
    "# Getting the gradient of network weights w.r.t. loss\n",
    "dy_dx = tape.gradient(y, x) \n",
    "my_dy_dx = dydx(x.numpy())\n",
    "print(dy_dx)  # Returns 6\n",
    "print(my_dy_dx)"
   ]
  },
  {
   "cell_type": "code",
   "execution_count": 2,
   "metadata": {},
   "outputs": [
    {
     "name": "stdout",
     "output_type": "stream",
     "text": [
      "(2, 3)\n",
      "tf.Tensor([5043.25614252 5043.142572  ], shape=(2,), dtype=float64)\n",
      "[5043.25614252 5043.142572  ]\n",
      "\n",
      "tf.Tensor(\n",
      "[[  0.5844   0.     -82.    ]\n",
      " [  0.436    0.     -82.    ]], shape=(2, 3), dtype=float64)\n",
      "tf.Tensor(\n",
      "[[  0.5844   0.     -82.    ]\n",
      " [  0.436    0.     -82.    ]], shape=(2, 3), dtype=float64)\n"
     ]
    }
   ],
   "source": [
    "# MSE example\n",
    "y_true = tf.constant(np.array([[0.1234, 1., 123], [0.346, 0., 123]]))\n",
    "y_pred = tf.Variable(np.array([[1., 1., 0], [1., 0., 0]]))\n",
    "\n",
    "print(y_true.shape)\n",
    "\n",
    "mse = MeanSquaredError()\n",
    "print(mean_squared_error(y_true, y_pred))\n",
    "print(mse((y_true, y_pred), axis=-1))\n",
    "print()\n",
    "\n",
    "with tf.GradientTape() as tape:\n",
    "    C = mean_squared_error(y_true, y_pred)\n",
    "\n",
    "print(tape.gradient(C, y_pred))\n",
    "print(mse.gradient((y_true, y_pred)))"
   ]
  },
  {
   "cell_type": "code",
   "execution_count": 4,
   "metadata": {},
   "outputs": [
    {
     "name": "stdout",
     "output_type": "stream",
     "text": [
      "tf gradient tape: [0.00666667 0.22666667 0.01333333]\n",
      "mse.gradient: [0.00666667 0.22666667 0.01333333]\n"
     ]
    }
   ],
   "source": [
    "# MSE gradient example\n",
    "\n",
    "# Instantiate mse object\n",
    "mse = MeanSquaredError()\n",
    "\n",
    "# Validate MSE grad\n",
    "a_L_np = np.array([0.12, 0.35, 0.61])\n",
    "y_true_np = np.array([0.11, 0.01, 0.59])\n",
    "a_L_tf = tf.Variable(a_L_np)\n",
    "y_true_tf = tf.constant(y_true_np)\n",
    "\n",
    "# tf gradient context\n",
    "with tf.GradientTape() as tape:\n",
    "    C = mean_squared_error(y_true=y_true_tf, y_pred=a_L_tf)\n",
    "\n",
    "dC_daL = tape.gradient(C, a_L_tf)\n",
    "print('tf gradient tape:', dC_daL.numpy())\n",
    "\n",
    "# My implementation\n",
    "dC_daL_np = mse.gradient((y_true_np, a_L_np))\n",
    "print('mse.gradient:', dC_daL_np)"
   ]
  },
  {
   "cell_type": "code",
   "execution_count": 5,
   "metadata": {},
   "outputs": [
    {
     "name": "stdout",
     "output_type": "stream",
     "text": [
      "mean (axis=None) 0.25\n",
      "mean axis=-1: 0.25\n",
      "Inputs:\n",
      "y_true: [0 1 0 0]\n",
      "y_pred_logits: [-18.6    0.51   2.94 -12.8 ]\n",
      "y_pred_proba: [8.35839003e-09 6.24806474e-01 9.49788727e-01 2.76076495e-06]\n",
      "\n",
      "My implementation:\n",
      "bce(from_logits=False): 0.8654579497810978\n",
      "bce(from_logits=True): 0.8654579497810978\n",
      "\n",
      "Tensorflow:\n",
      "0.8654573847833843\n",
      "\n",
      "Random Calculations:\n",
      "TensorFlow: tf.Tensor(0.8897597402544937, shape=(), dtype=float64)\n",
      "My Implementation: 0.8897600640814369\n"
     ]
    }
   ],
   "source": [
    "# BCE example\n",
    "\n",
    "samples = 5\n",
    "dims = 4\n",
    "\n",
    "sigmoid = Sigmoid()\n",
    "\n",
    "y_true = np.array([0, 1, 0, 0])\n",
    "print('mean (axis=None)', np.mean(y_true, axis=None))\n",
    "print('mean axis=-1:', np.mean(y_true, axis=-1))\n",
    "y_pred_logits = np.array([-18.6, 0.51, 2.94, -12.8])\n",
    "y_pred_proba = sigmoid(y_pred_logits)\n",
    "\n",
    "random_true = np.random.choice(a=2, size=(samples, dims))\n",
    "random_proba = sigmoid(np.random.normal(size=(samples, dims)))\n",
    "\n",
    "print('Inputs:')\n",
    "print('y_true:', y_true)\n",
    "print('y_pred_logits:', y_pred_logits)\n",
    "print('y_pred_proba:', y_pred_proba)\n",
    "\n",
    "bce_fl = BinaryCrossEntropy(from_logits=True)\n",
    "bce = BinaryCrossEntropy()\n",
    "\n",
    "print()\n",
    "print('My implementation:')\n",
    "print('bce(from_logits=False):', bce((y_true, y_pred_proba)))\n",
    "print('bce(from_logits=True):', bce_fl((y_true, y_pred_logits)))\n",
    "\n",
    "print()\n",
    "print('Tensorflow:')\n",
    "print(binary_crossentropy(y_true, y_pred_proba).numpy())\n",
    "\n",
    "print()\n",
    "print('Random Calculations:')\n",
    "print('TensorFlow:', tf.reduce_mean(binary_crossentropy(y_true=random_true, y_pred=random_proba)))\n",
    "print('My Implementation:', bce((random_true, random_proba)))"
   ]
  },
  {
   "cell_type": "code",
   "execution_count": 18,
   "metadata": {},
   "outputs": [
    {
     "name": "stdout",
     "output_type": "stream",
     "text": [
      "TensorFlow:\n",
      "tf.Tensor([ 0.         -0.4016326   4.97895166  0.25000067], shape=(4,), dtype=float64)\n",
      "\n",
      "My Implementation:\n",
      "tf.Tensor([ 1.00000001 -1.60653066 19.91584631  1.00000276], shape=(4,), dtype=float64)\n",
      "[-2.]\n"
     ]
    }
   ],
   "source": [
    "# BCE gradient example\n",
    "\n",
    "samples = 5\n",
    "dims = 4\n",
    "\n",
    "sigmoid = Sigmoid()\n",
    "bce = BinaryCrossEntropy()\n",
    "\n",
    "y_true = tf.constant(np.array([0., 1., 0., 0.]))\n",
    "y_pred_logits = np.array([-18.6, 0.5, 2.94, -12.8])\n",
    "y_pred_proba = tf.Variable(sigmoid(y_pred_logits))\n",
    "y_pred_single_proba = np.array([0.5])\n",
    "y_true_single_response = np.array(1.)\n",
    "\n",
    "random_true = np.random.choice(a=2, size=(samples, dims))\n",
    "\n",
    "with tf.GradientTape() as tape:\n",
    "    C = binary_crossentropy(y_true, y_pred_proba)\n",
    "\n",
    "print('TensorFlow:')\n",
    "dC_dProbaActivation = tape.gradient(C, y_pred_proba)\n",
    "print(dC_dProbaActivation)\n",
    "print()\n",
    "\n",
    "print('My Implementation:')\n",
    "dC_dProbaActivationMine = bce.gradient((y_true, y_pred_proba))\n",
    "print(dC_dProbaActivationMine)\n",
    "\n",
    "print(bce.gradient((y_true_single_response, y_pred_single_proba)))"
   ]
  },
  {
   "cell_type": "code",
   "execution_count": 4,
   "metadata": {},
   "outputs": [
    {
     "name": "stdout",
     "output_type": "stream",
     "text": [
      "[[14  2 11  0]\n",
      " [14  3  5 12]\n",
      " [ 9 10  4 11]\n",
      " [ 4  6  4 15]] (4, 4)\n",
      "[[ 0.8644362 ]\n",
      " [-0.74216502]\n",
      " [ 2.26975462]\n",
      " [-1.45436567]\n",
      " [ 0.04575852]\n",
      " [-0.18718385]\n",
      " [ 1.53277921]\n",
      " [ 1.46935877]\n",
      " [ 0.15494743]\n",
      " [ 0.37816252]\n",
      " [-0.88778575]\n",
      " [-1.98079647]\n",
      " [-0.34791215]\n",
      " [ 0.15634897]\n",
      " [ 1.23029068]\n",
      " [ 1.20237985]] (16, 1)\n",
      "(4, 4, 1)\n",
      "\n",
      "[[ 1.23029068]\n",
      " [ 2.26975462]\n",
      " [-1.98079647]\n",
      " [ 0.8644362 ]]\n",
      "[[ 1.23029068]\n",
      " [-1.45436567]\n",
      " [-0.18718385]\n",
      " [-0.34791215]]\n",
      "[[ 0.37816252]\n",
      " [-0.88778575]\n",
      " [ 0.04575852]\n",
      " [-1.98079647]]\n",
      "[[0.04575852]\n",
      " [1.53277921]\n",
      " [0.04575852]\n",
      " [1.20237985]]\n"
     ]
    }
   ],
   "source": [
    "# X matrix\n",
    "batch_size = 4\n",
    "\n",
    "X = np.random.normal(size=(16, 1))\n",
    "\n",
    "num_samples = X.shape[0]\n",
    "num_batches = num_samples//batch_size\n",
    "batch_indices = np.random.choice(num_samples, size=(num_batches, batch_size))\n",
    "\n",
    "print(batch_indices, batch_indices.shape)\n",
    "print(X, X.shape)\n",
    "print(X[batch_indices].shape)\n",
    "print()\n",
    "\n",
    "for batch in X[batch_indices]:\n",
    "    print(batch)"
   ]
  },
  {
   "cell_type": "code",
   "execution_count": null,
   "metadata": {},
   "outputs": [],
   "source": [
    "targets = 1\n",
    "batch_size = 32\n",
    "A = np.random.normal(size=(batch_size, targets))\n",
    "y_true = np.random.normal(size=(batch_size, targets))\n",
    "Z = np.random.normal(size=(batch_size, targets))\n",
    "\n",
    "def compute_delta_L(a, y, z):\n",
    "    \"\"\"\"\"\"\n",
    "    return np.random.choice(size=(z.shape[0]))\n",
    "\n",
    "delta_L = np.apply_along_axis()"
   ]
  },
  {
   "cell_type": "code",
   "execution_count": null,
   "metadata": {},
   "outputs": [],
   "source": [
    "# (W^{l+1}_jk)^T DOT d_^{l+1}j HADAMARD phi(z_j)\n",
    "# C_k1 HADAMARD \n",
    "# j = num_neurons_in_cur_layer = 2\n",
    "# k = num_neurons_in_prev_layer = 3\n",
    "# o         o     \n",
    "#           o          o\n",
    "# o         o \n",
    "#       j=3, k=2    j=1, k=3\n",
    "# (W^{l+1}_13)^T DOT d^{l+1}_1 H phi(z_3)\n",
    "# W^{l+1}_31 DOT d^{l+1}_1 H phi(z_3)\n",
    "# C_3 H Phi(z_3)"
   ]
  },
  {
   "cell_type": "code",
   "execution_count": 3,
   "metadata": {},
   "outputs": [
    {
     "name": "stdout",
     "output_type": "stream",
     "text": [
      "(1, 32)\n",
      "(1, 32)\n",
      "(32,)\n"
     ]
    }
   ],
   "source": [
    "a = np.random.normal(size=(32, 1))\n",
    "b = np.random.normal(size=(32, 1))\n",
    "c = np.random.normal(size=(32,))\n",
    "\n",
    "print(np.atleast_2d(c).shape)\n",
    "\n",
    "print(np.transpose(a).shape)\n",
    "print(np.transpose(c).shape)"
   ]
  },
  {
   "cell_type": "code",
   "execution_count": 5,
   "metadata": {},
   "outputs": [
    {
     "name": "stdout",
     "output_type": "stream",
     "text": [
      "[0 1 2 3 4]\n",
      "hadamard [0 2 4 6 8]\n",
      "20\n"
     ]
    }
   ],
   "source": [
    "x = np.arange(0, 5)\n",
    "y = np.full_like(x, fill_value=2)\n",
    "\n",
    "print(x)\n",
    "print('hadamard', x * y)\n",
    "print(np.dot(x, y))"
   ]
  },
  {
   "cell_type": "code",
   "execution_count": 7,
   "metadata": {},
   "outputs": [
    {
     "data": {
      "text/plain": [
       "<matplotlib.collections.PathCollection at 0x25d665b6820>"
      ]
     },
     "execution_count": 7,
     "metadata": {},
     "output_type": "execute_result"
    },
    {
     "data": {
      "image/png": "[encoded data removed]",
      "text/plain": [
       "<Figure size 432x288 with 1 Axes>"
      ]
     },
     "metadata": {
      "needs_background": "light"
     },
     "output_type": "display_data"
    }
   ],
   "source": [
    "x = np.linspace(-5, 5)\n",
    "y = ReLU()(x)\n",
    "dydx = ReLU().derivative(x)\n",
    "plt.scatter(x, y)\n",
    "plt.scatter(x, dydx)"
   ]
  },
  {
   "cell_type": "code",
   "execution_count": 8,
   "metadata": {},
   "outputs": [],
   "source": [
    "# Input data\n",
    "rows = 5\n",
    "cols = 10\n",
    "input_vector = np.random.normal(size=(rows, cols))\n",
    "dummy_pred_vector = np.random.normal(size=(rows, cols))"
   ]
  },
  {
   "cell_type": "code",
   "execution_count": 9,
   "metadata": {},
   "outputs": [],
   "source": [
    "# Instantiate Layer\n",
    "lyr = DenseLayer(input_dims=input_vector.shape[-1], num_units=2)"
   ]
  },
  {
   "cell_type": "code",
   "execution_count": 10,
   "metadata": {},
   "outputs": [
    {
     "name": "stdout",
     "output_type": "stream",
     "text": [
      "input: (5, 10)\n",
      "output: (5, 2) (5, 2)\n",
      "[[-0.42647349 -0.24779502]\n",
      " [-0.28689659 -0.40105034]\n",
      " [-0.32231351 -0.45992227]\n",
      " [-0.18448811  0.24800787]\n",
      " [ 0.17294692  0.21348298]] \n",
      "\n",
      " [[-0.42647349 -0.24779502]\n",
      " [-0.28689659 -0.40105034]\n",
      " [-0.32231351 -0.45992227]\n",
      " [-0.18448811  0.24800787]\n",
      " [ 0.17294692  0.21348298]]\n"
     ]
    }
   ],
   "source": [
    "# Layer call\n",
    "lyr_activations, lyr_wt_inputs = lyr(input_vector)\n",
    "print('input:', input_vector.shape)\n",
    "print('output:', lyr_activations.shape, lyr_wt_inputs.shape)\n",
    "print(lyr_activations, '\\n\\n', lyr_wt_inputs)"
   ]
  },
  {
   "cell_type": "code",
   "execution_count": 13,
   "metadata": {},
   "outputs": [
    {
     "data": {
      "text/plain": [
       "([], [])"
      ]
     },
     "execution_count": 13,
     "metadata": {},
     "output_type": "execute_result"
    }
   ],
   "source": [
    "model = MLP(input_dims=input_vector.shape[-1], hidden_units=2, targets=1, loss_function=mse, learning_rate=1e-3, l_layers=2)"
   ]
  },
  {
   "cell_type": "code",
   "execution_count": 20,
   "metadata": {},
   "outputs": [
    {
     "name": "stdout",
     "output_type": "stream",
     "text": [
      "[[ 0.13224191]\n",
      " [ 0.01783743]\n",
      " [-0.16562248]\n",
      " [-0.15245786]\n",
      " [-0.05169993]]\n",
      "(5, 1)\n"
     ]
    }
   ],
   "source": [
    "# Result of forward pass\n",
    "fwd = model._forward_pass(inputs=input_vector)\n",
    "print(fwd)\n",
    "print(fwd.shape)"
   ]
  },
  {
   "cell_type": "code",
   "execution_count": null,
   "metadata": {},
   "outputs": [
    {
     "name": "stdout",
     "output_type": "stream",
     "text": [
      "3\n",
      "[[22 51 90 17 94 76 89 87  8 53 98 55 50 31 26 28 88 79 34 74 39 85 12 16\n",
      "  83 64 20 67 58 77 25  7]\n",
      " [86 36 21 72 84 57  9 11 96 82 68 49  5 14 15 37 19 33 69 78 59 56  4 91\n",
      "  75  6 95 44 65 62 29 40]\n",
      " [71 24 81 41 73 45 13 23 42 52 92 38 63 60  2 46 70 93 32  3  0 80 97 99\n",
      "   1 30 48 27 47 43 18 10]]\n"
     ]
    }
   ],
   "source": [
    "batch_size = 32\n",
    "samples = 100\n",
    "y_batch_indices = np.random.choice(\n",
    "            a=samples, size=(samples//batch_size, batch_size), replace=False) "
   ]
  },
  {
   "cell_type": "code",
   "execution_count": null,
   "metadata": {},
   "outputs": [],
   "source": []
  }
 ],
 "metadata": {
  "interpreter": {
   "hash": "07f0aceed467d0cbae7569fecdfaec78063cba8e23481668ef588a8de6eba6e0"
  },
  "kernelspec": {
   "display_name": "Python 3.9.6 64-bit ('blue-mars': conda)",
   "language": "python",
   "name": "python3"
  },
  "language_info": {
   "codemirror_mode": {
    "name": "ipython",
    "version": 3
   },
   "file_extension": ".py",
   "mimetype": "text/x-python",
   "name": "python",
   "nbconvert_exporter": "python",
   "pygments_lexer": "ipython3",
   "version": "3.9.7"
  },
  "orig_nbformat": 4
 },
 "nbformat": 4,
 "nbformat_minor": 2
}
